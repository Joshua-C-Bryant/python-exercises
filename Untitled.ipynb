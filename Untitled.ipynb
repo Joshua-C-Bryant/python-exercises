{
 "cells": [
  {
   "cell_type": "code",
   "execution_count": 1,
   "id": "d58cc475",
   "metadata": {},
   "outputs": [
    {
     "ename": "SyntaxError",
     "evalue": "invalid syntax (<ipython-input-1-5dcbe65b21ca>, line 2)",
     "output_type": "error",
     "traceback": [
      "\u001b[0;36m  File \u001b[0;32m\"<ipython-input-1-5dcbe65b21ca>\"\u001b[0;36m, line \u001b[0;32m2\u001b[0m\n\u001b[0;31m    if user_input.lower() = \"monday\":\u001b[0m\n\u001b[0m                          ^\u001b[0m\n\u001b[0;31mSyntaxError\u001b[0m\u001b[0;31m:\u001b[0m invalid syntax\n"
     ]
    }
   ],
   "source": [
    "user_input = input(\"What day is today?\")\n",
    "if user_input.lower() = \"monday\":\n",
    "    print(\"Today is Monday! It's 1/7th of your life so make the best of it!\")\n",
    "else:\n",
    "    print(\"Today is not Monday, have a great day!\")"
   ]
  },
  {
   "cell_type": "code",
   "execution_count": 3,
   "id": "6fea957b",
   "metadata": {},
   "outputs": [
    {
     "name": "stdout",
     "output_type": "stream",
     "text": [
      "What day is today?sunday\n",
      "Today is not Monday, have a great day!\n"
     ]
    }
   ],
   "source": [
    "user_input = input(\"What day is today?\")\n",
    "if user_input.lower() == \"monday\":\n",
    "    print(\"Today is Monday! It's 1/7th of your life so make the best of it!\")\n",
    "else:\n",
    "    print(\"Today is not Monday, have a great day!\")"
   ]
  },
  {
   "cell_type": "code",
   "execution_count": 5,
   "id": "eefe0688",
   "metadata": {},
   "outputs": [
    {
     "name": "stdout",
     "output_type": "stream",
     "text": [
      "What day is today? Hello\n",
      "That's not a day\n"
     ]
    }
   ],
   "source": [
    "user_input = input(\"What day is today? \")\n",
    "if user_input.lower() == \"monday\":\n",
    "    print(\"Today is Monday! It's 1/7th of your life so make the best of it!\")\n",
    "if user_input.lower() in [\"tuesday\",\"wednesday\",\"thursday\",\"friday\",\"saturday\",\"sunday\"]:\n",
    "    print(\"Today is not Monday, have a great day!\")\n",
    "else:\n",
    "    print(\"That's not a day\")"
   ]
  },
  {
   "cell_type": "code",
   "execution_count": 6,
   "id": "0af41ef9",
   "metadata": {},
   "outputs": [
    {
     "name": "stdout",
     "output_type": "stream",
     "text": [
      "What day is today? Saturday\n",
      "It's the weekend, cheers!\n"
     ]
    }
   ],
   "source": [
    "user_input = input(\"What day is today? \")\n",
    "if user_input.lower() in [\"monday\",\"tuesday\",\"wednesday\",\"thursday\",\"friday\"]:\n",
    "    print(\"Today is a weekday!\")\n",
    "if user_input.lower() in [\"saturday\",\"sunday\"]:\n",
    "    print(\"It's the weekend, cheers!\")\n",
    "else:\n",
    "    print(\"That's not a day!\")"
   ]
  },
  {
   "cell_type": "code",
   "execution_count": 8,
   "id": "0bc8a907",
   "metadata": {},
   "outputs": [],
   "source": [
    "i = 5\n",
    "\n",
    "while i >= 15:\n",
    "    print(i)"
   ]
  },
  {
   "cell_type": "code",
   "execution_count": null,
   "id": "cbfd7121",
   "metadata": {},
   "outputs": [],
   "source": []
  }
 ],
 "metadata": {
  "kernelspec": {
   "display_name": "Python 3",
   "language": "python",
   "name": "python3"
  },
  "language_info": {
   "codemirror_mode": {
    "name": "ipython",
    "version": 3
   },
   "file_extension": ".py",
   "mimetype": "text/x-python",
   "name": "python",
   "nbconvert_exporter": "python",
   "pygments_lexer": "ipython3",
   "version": "3.8.8"
  }
 },
 "nbformat": 4,
 "nbformat_minor": 5
}
