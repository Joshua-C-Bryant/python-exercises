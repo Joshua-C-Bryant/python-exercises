{
 "cells": [
  {
   "cell_type": "code",
   "execution_count": 1,
   "id": "82418ebd",
   "metadata": {},
   "outputs": [
    {
     "data": {
      "text/plain": [
       "'B'"
      ]
     },
     "execution_count": 1,
     "metadata": {},
     "output_type": "execute_result"
    }
   ],
   "source": [
    "from function_exercises import get_letter_grade\n",
    "\n",
    "get_letter_grade(88)"
   ]
  },
  {
   "cell_type": "code",
   "execution_count": 2,
   "id": "5a30295b",
   "metadata": {},
   "outputs": [],
   "source": [
    "import itertools as it"
   ]
  },
  {
   "cell_type": "code",
   "execution_count": null,
   "id": "7349d579",
   "metadata": {},
   "outputs": [],
   "source": [
    "from itertools"
   ]
  },
  {
   "cell_type": "code",
   "execution_count": 16,
   "id": "44d1adc5",
   "metadata": {},
   "outputs": [
    {
     "name": "stdout",
     "output_type": "stream",
     "text": [
      "[('a', '1'), ('a', '2'), ('a', '3'), ('b', '1'), ('b', '2'), ('b', '3'), ('c', '1'), ('c', '2'), ('c', '3')]\n"
     ]
    }
   ],
   "source": [
    "print(list(it.product('abc','123')))"
   ]
  },
  {
   "cell_type": "code",
   "execution_count": 12,
   "id": "87a61127",
   "metadata": {},
   "outputs": [
    {
     "name": "stdout",
     "output_type": "stream",
     "text": [
      "[('a', 'b'), ('a', 'c'), ('a', 'd'), ('b', 'c'), ('b', 'd'), ('c', 'd')]\n"
     ]
    }
   ],
   "source": [
    "print(list(it.combinations(\"abcd\",2)))"
   ]
  },
  {
   "cell_type": "code",
   "execution_count": 10,
   "id": "dba6492c",
   "metadata": {},
   "outputs": [
    {
     "name": "stdout",
     "output_type": "stream",
     "text": [
      "[('a', 'b'), ('a', 'c'), ('a', 'd'), ('b', 'a'), ('b', 'c'), ('b', 'd'), ('c', 'a'), ('c', 'b'), ('c', 'd'), ('d', 'a'), ('d', 'b'), ('d', 'c')]\n"
     ]
    }
   ],
   "source": [
    "print(list(it.permutations(\"abcd\",2)))"
   ]
  }
 ],
 "metadata": {
  "kernelspec": {
   "display_name": "Python 3",
   "language": "python",
   "name": "python3"
  },
  "language_info": {
   "codemirror_mode": {
    "name": "ipython",
    "version": 3
   },
   "file_extension": ".py",
   "mimetype": "text/x-python",
   "name": "python",
   "nbconvert_exporter": "python",
   "pygments_lexer": "ipython3",
   "version": "3.8.8"
  }
 },
 "nbformat": 4,
 "nbformat_minor": 5
}
