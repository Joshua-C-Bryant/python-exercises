{
 "cells": [
  {
   "cell_type": "code",
   "execution_count": 6,
   "id": "9ed4ebc3",
   "metadata": {},
   "outputs": [],
   "source": [
    "#price of renting a movie per day = $3 per day\n",
    "def total_price(n):\n",
    "    return n*3"
   ]
  },
  {
   "cell_type": "code",
   "execution_count": 2,
   "id": "d7c9140c",
   "metadata": {},
   "outputs": [
    {
     "data": {
      "text/plain": [
       "9"
      ]
     },
     "execution_count": 2,
     "metadata": {},
     "output_type": "execute_result"
    }
   ],
   "source": [
    "#The Little Mermaid (3 days)\n",
    "total_price(3)"
   ]
  },
  {
   "cell_type": "code",
   "execution_count": 3,
   "id": "09e40712",
   "metadata": {},
   "outputs": [
    {
     "data": {
      "text/plain": [
       "15"
      ]
     },
     "execution_count": 3,
     "metadata": {},
     "output_type": "execute_result"
    }
   ],
   "source": [
    "#Brother Bear (5 days)\n",
    "total_price(5)"
   ]
  },
  {
   "cell_type": "code",
   "execution_count": 4,
   "id": "ca8cd001",
   "metadata": {},
   "outputs": [
    {
     "data": {
      "text/plain": [
       "3"
      ]
     },
     "execution_count": 4,
     "metadata": {},
     "output_type": "execute_result"
    }
   ],
   "source": [
    "#Hercules(1 day)\n",
    "total_price(1)"
   ]
  },
  {
   "cell_type": "code",
   "execution_count": 11,
   "id": "152e5b53",
   "metadata": {},
   "outputs": [],
   "source": [
    "#Pay for different companies\n",
    "def google_pay(n):\n",
    "    return n*400\n",
    "def amazon_pay(n):\n",
    "    return n*380\n",
    "def facebook_pay(n):\n",
    "    return n*350"
   ]
  },
  {
   "cell_type": "code",
   "execution_count": 9,
   "id": "0a5e9d7b",
   "metadata": {},
   "outputs": [
    {
     "data": {
      "text/plain": [
       "2400"
      ]
     },
     "execution_count": 9,
     "metadata": {},
     "output_type": "execute_result"
    }
   ],
   "source": [
    "google_pay(6)"
   ]
  },
  {
   "cell_type": "code",
   "execution_count": 10,
   "id": "e6d6a53a",
   "metadata": {},
   "outputs": [
    {
     "data": {
      "text/plain": [
       "1520"
      ]
     },
     "execution_count": 10,
     "metadata": {},
     "output_type": "execute_result"
    }
   ],
   "source": [
    "amazon_pay(4)"
   ]
  },
  {
   "cell_type": "code",
   "execution_count": 12,
   "id": "ba93a952",
   "metadata": {},
   "outputs": [
    {
     "data": {
      "text/plain": [
       "3500"
      ]
     },
     "execution_count": 12,
     "metadata": {},
     "output_type": "execute_result"
    }
   ],
   "source": [
    "facebook_pay(10)"
   ]
  },
  {
   "cell_type": "code",
   "execution_count": 13,
   "id": "cd71bef8",
   "metadata": {},
   "outputs": [],
   "source": [
    "class_not_full = True\n",
    "no_class_conflicts = True\n",
    "enrollment_eligibility = class_not_full and no_class_conflicts"
   ]
  },
  {
   "cell_type": "code",
   "execution_count": 14,
   "id": "57477344",
   "metadata": {},
   "outputs": [
    {
     "data": {
      "text/plain": [
       "True"
      ]
     },
     "execution_count": 14,
     "metadata": {},
     "output_type": "execute_result"
    }
   ],
   "source": [
    "enrollment_eligibility"
   ]
  },
  {
   "cell_type": "code",
   "execution_count": 6,
   "id": "edf9f1f8",
   "metadata": {},
   "outputs": [],
   "source": [
    "#product offer eligibility\n",
    "def product_offer_eligibility():\n",
    "    if sales > 2 and date() > now():\n",
    "        return True\n",
    "    if premium_member and date() > now():\n",
    "        return True\n",
    "    else: False"
   ]
  },
  {
   "cell_type": "code",
   "execution_count": 7,
   "id": "8b5c8120",
   "metadata": {},
   "outputs": [],
   "source": [
    "#usernam/password exercises\n",
    "username = 'codeup'\n",
    "password = 'notastrongpassword'"
   ]
  },
  {
   "cell_type": "code",
   "execution_count": 12,
   "id": "359e79d6",
   "metadata": {},
   "outputs": [],
   "source": [
    "if len(password) > 5 : True"
   ]
  },
  {
   "cell_type": "code",
   "execution_count": 14,
   "id": "5eb44b34",
   "metadata": {},
   "outputs": [],
   "source": [
    "if len(username) > 20 : False"
   ]
  },
  {
   "cell_type": "code",
   "execution_count": 15,
   "id": "ca57b5ca",
   "metadata": {},
   "outputs": [],
   "source": [
    "if username == password : False"
   ]
  },
  {
   "cell_type": "code",
   "execution_count": 23,
   "id": "d5ac242f",
   "metadata": {},
   "outputs": [],
   "source": [
    "if username[0] == \" \" or username[-1] == \" \" or password[0] == \" \" or password[-1] == \" \": False"
   ]
  }
 ],
 "metadata": {
  "kernelspec": {
   "display_name": "Python 3",
   "language": "python",
   "name": "python3"
  },
  "language_info": {
   "codemirror_mode": {
    "name": "ipython",
    "version": 3
   },
   "file_extension": ".py",
   "mimetype": "text/x-python",
   "name": "python",
   "nbconvert_exporter": "python",
   "pygments_lexer": "ipython3",
   "version": "3.8.8"
  }
 },
 "nbformat": 4,
 "nbformat_minor": 5
}
