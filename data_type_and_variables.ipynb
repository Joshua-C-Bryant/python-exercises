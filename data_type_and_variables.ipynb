{
 "cells": [
  {
   "cell_type": "code",
   "execution_count": 6,
   "id": "f4037189",
   "metadata": {},
   "outputs": [],
   "source": [
    "#price of renting a movie per day = $3 per day\n",
    "def total_price(n):\n",
    "    return n*3"
   ]
  },
  {
   "cell_type": "code",
   "execution_count": 2,
   "id": "563cf281",
   "metadata": {},
   "outputs": [
    {
     "data": {
      "text/plain": [
       "9"
      ]
     },
     "execution_count": 2,
     "metadata": {},
     "output_type": "execute_result"
    }
   ],
   "source": [
    "#The Little Mermaid (3 days)\n",
    "total_price(3)"
   ]
  },
  {
   "cell_type": "code",
   "execution_count": 3,
   "id": "4bd18186",
   "metadata": {},
   "outputs": [
    {
     "data": {
      "text/plain": [
       "15"
      ]
     },
     "execution_count": 3,
     "metadata": {},
     "output_type": "execute_result"
    }
   ],
   "source": [
    "#Brother Bear (5 days)\n",
    "total_price(5)"
   ]
  },
  {
   "cell_type": "code",
   "execution_count": 4,
   "id": "83bbf5ac",
   "metadata": {},
   "outputs": [
    {
     "data": {
      "text/plain": [
       "3"
      ]
     },
     "execution_count": 4,
     "metadata": {},
     "output_type": "execute_result"
    }
   ],
   "source": [
    "#Hercules(1 day)\n",
    "total_price(1)"
   ]
  },
  {
   "cell_type": "code",
   "execution_count": 11,
   "id": "7cfe34d7",
   "metadata": {},
   "outputs": [],
   "source": [
    "#Pay for different companies\n",
    "def google_pay(n):\n",
    "    return n*400\n",
    "def amazon_pay(n):\n",
    "    return n*380\n",
    "def facebook_pay(n):\n",
    "    return n*350"
   ]
  },
  {
   "cell_type": "code",
   "execution_count": 9,
   "id": "7c28cfc8",
   "metadata": {},
   "outputs": [
    {
     "data": {
      "text/plain": [
       "2400"
      ]
     },
     "execution_count": 9,
     "metadata": {},
     "output_type": "execute_result"
    }
   ],
   "source": [
    "google_pay(6)"
   ]
  },
  {
   "cell_type": "code",
   "execution_count": 10,
   "id": "1a2661d8",
   "metadata": {},
   "outputs": [
    {
     "data": {
      "text/plain": [
       "1520"
      ]
     },
     "execution_count": 10,
     "metadata": {},
     "output_type": "execute_result"
    }
   ],
   "source": [
    "amazon_pay(4)"
   ]
  },
  {
   "cell_type": "code",
   "execution_count": 12,
   "id": "552b6b28",
   "metadata": {},
   "outputs": [
    {
     "data": {
      "text/plain": [
       "3500"
      ]
     },
     "execution_count": 12,
     "metadata": {},
     "output_type": "execute_result"
    }
   ],
   "source": [
    "facebook_pay(10)"
   ]
  },
  {
   "cell_type": "code",
   "execution_count": 13,
   "id": "014c08e1",
   "metadata": {},
   "outputs": [],
   "source": [
    "class_not_full = True\n",
    "no_class_conflicts = True\n",
    "enrollment_eligibility = class_not_full and no_class_conflicts"
   ]
  },
  {
   "cell_type": "code",
   "execution_count": 14,
   "id": "f2ca6123",
   "metadata": {},
   "outputs": [
    {
     "data": {
      "text/plain": [
       "True"
      ]
     },
     "execution_count": 14,
     "metadata": {},
     "output_type": "execute_result"
    }
   ],
   "source": [
    "enrollment_eligibility"
   ]
  },
  {
   "cell_type": "code",
   "execution_count": null,
   "id": "393d4a0b",
   "metadata": {},
   "outputs": [],
   "source": []
  }
 ],
 "metadata": {
  "kernelspec": {
   "display_name": "Python 3",
   "language": "python",
   "name": "python3"
  },
  "language_info": {
   "codemirror_mode": {
    "name": "ipython",
    "version": 3
   },
   "file_extension": ".py",
   "mimetype": "text/x-python",
   "name": "python",
   "nbconvert_exporter": "python",
   "pygments_lexer": "ipython3",
   "version": "3.8.8"
  }
 },
 "nbformat": 4,
 "nbformat_minor": 5
}
